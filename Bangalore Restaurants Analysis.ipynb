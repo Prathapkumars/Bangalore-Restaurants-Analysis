{
 "cells": [
  {
   "cell_type": "markdown",
   "metadata": {},
   "source": [
    "# Bangalore Restaurants Analysis\n",
    "  dataset credit : Chanakya Vivek Kapoor, Machine Learning Researcher at DSC-VIT Gurugram     Haryana,India"
   ]
  },
  {
   "cell_type": "markdown",
   "metadata": {},
   "source": [
    "In this notebook, we analyse the restaurants which are located in the 'Silicon Valley' of India i.e Bengalore. There are various columns present in the dataset and we will through them. I have used various types of charts for visualizations and have plotted certain locations on the map using GeoPy and Folium. Don't miss to check them out."
   ]
  },
  {
   "cell_type": "code",
   "execution_count": null,
   "metadata": {},
   "outputs": [],
   "source": [
    "## les's start with importing necessary libraries \n",
    "import pandas as pd\n",
    "import numpy as np"
   ]
  },
  {
   "cell_type": "code",
   "execution_count": null,
   "metadata": {},
   "outputs": [],
   "source": [
    "data = pd.read_csv(\"zomato.csv\")"
   ]
  },
  {
   "cell_type": "code",
   "execution_count": null,
   "metadata": {},
   "outputs": [],
   "source": [
    "data.describe()"
   ]
  },
  {
   "cell_type": "code",
   "execution_count": null,
   "metadata": {},
   "outputs": [],
   "source": [
    "data.head(10)"
   ]
  },
  {
   "cell_type": "code",
   "execution_count": null,
   "metadata": {},
   "outputs": [],
   "source": [
    "data.info()"
   ]
  },
  {
   "cell_type": "code",
   "execution_count": null,
   "metadata": {},
   "outputs": [],
   "source": [
    "data.columns"
   ]
  },
  {
   "cell_type": "code",
   "execution_count": null,
   "metadata": {
    "scrolled": true
   },
   "outputs": [],
   "source": [
    "data['listed_in(city)'].unique()"
   ]
  },
  {
   "cell_type": "markdown",
   "metadata": {},
   "source": [
    "As our aim is to get a fair idea about the factors affecting the establishment of different types of restaurant at different places in Bengaluru, i will remove certain columns that are not of much help to us. First we will remove 'url' column as it does not play a major role. 'Address' can also be removed because 'location' is a much easier and better feature to analyze as compared to 'address'. 'Phone' will also be removed.\n",
    "\n",
    "As we can observe the 'location' field offers more precise location as compared to the column 'listed_in(city)' column, we will use the 'location' column."
   ]
  },
  {
   "cell_type": "code",
   "execution_count": null,
   "metadata": {},
   "outputs": [],
   "source": [
    "data = data.drop(['url', 'address', 'phone', 'listed_in(city)'], axis=1, inplace = True )"
   ]
  },
  {
   "cell_type": "code",
   "execution_count": null,
   "metadata": {},
   "outputs": [],
   "source": [
    "data.isna().sum()"
   ]
  },
  {
   "cell_type": "code",
   "execution_count": null,
   "metadata": {},
   "outputs": [],
   "source": [
    "data.shape"
   ]
  },
  {
   "cell_type": "code",
   "execution_count": null,
   "metadata": {},
   "outputs": [],
   "source": [
    "import matplotlib.pyplot as plt\n",
    "import seaborn as sns\n",
    "%matplotlib inline\n",
    "\n",
    "def missing_values(data, thresh = 20, color = 'black', edgecolor = 'black', height = 3, width = 15):\n",
    "    \n",
    "    plt.figure(figsize = (width, height))\n",
    "    percentage = (data.isnull().mean()) * 100\n",
    "    percentage.sort_values(ascending = False).plot.bar(color = color, edgecolor = edgecolor)\n",
    "    plt.axhline(y = thresh, color = 'r', linestyle = '-')\n",
    "    \n",
    "    plt.title('Missing values percentage per column', fontsize = 20, weight = 'bold' )\n",
    "    \n",
    "    plt.text(len(data.isnull().sum()/len(data))/1.7, thresh + 12.5, f'Columns with more than {thresh}% missing values', fontsize = 12, color = 'crimson',\n",
    "         ha = 'left' ,va = 'top')\n",
    "    plt.text(len(data.isnull().sum()/len(data))/1.7, thresh - 5, f'Columns with less than {thresh}% missing values', fontsize=12, color='green',\n",
    "         ha = 'left' ,va = 'top')\n",
    "    plt.xlabel('Columns', size = 15, weight = 'bold')\n",
    "    plt.ylabel('Missing values percentage')\n",
    "    plt.yticks(weight = 'bold')\n",
    "    \n",
    "    return plt.show()"
   ]
  },
  {
   "cell_type": "code",
   "execution_count": null,
   "metadata": {},
   "outputs": [],
   "source": [
    "missing_values(data, thresh = 20, color = sns.color_palette('Reds',15))"
   ]
  },
  {
   "cell_type": "markdown",
   "metadata": {},
   "source": [
    "removing the 'dish_liked' column as it contains more than 50% missing values."
   ]
  },
  {
   "cell_type": "code",
   "execution_count": null,
   "metadata": {},
   "outputs": [],
   "source": [
    "data.drop(['dish_liked'], axis = 1, inplace = True)"
   ]
  },
  {
   "cell_type": "code",
   "execution_count": null,
   "metadata": {},
   "outputs": [],
   "source": [
    "missing_values(data, thresh = 20, color = sns.color_palette('Reds',15))"
   ]
  },
  {
   "cell_type": "markdown",
   "metadata": {},
   "source": [
    "For the null values present in the 'rate' column, we will replace them with the mode of the 'rate' column. We can not remove this column, because we won't have any dependent column left with us once we remove it."
   ]
  },
  {
   "cell_type": "code",
   "execution_count": null,
   "metadata": {},
   "outputs": [],
   "source": [
    "data['rate'] = data['rate'].fillna(data['rate'].mode()[0])"
   ]
  },
  {
   "cell_type": "code",
   "execution_count": null,
   "metadata": {},
   "outputs": [],
   "source": [
    "missing_values(data, thresh = 20, color = sns.color_palette('Reds',15))"
   ]
  },
  {
   "cell_type": "markdown",
   "metadata": {},
   "source": [
    "let's remove the rows having null values for the above column"
   ]
  },
  {
   "cell_type": "code",
   "execution_count": null,
   "metadata": {},
   "outputs": [],
   "source": [
    "previous_data = data\n",
    "data.dropna(inplace = True)"
   ]
  },
  {
   "cell_type": "code",
   "execution_count": null,
   "metadata": {},
   "outputs": [],
   "source": [
    "missing_values(data, thresh = 20, color = sns.color_palette('Reds',15))"
   ]
  },
  {
   "cell_type": "code",
   "execution_count": null,
   "metadata": {},
   "outputs": [],
   "source": [
    "data.isna().sum()"
   ]
  },
  {
   "cell_type": "markdown",
   "metadata": {},
   "source": [
    "removed all null values in the dataset"
   ]
  },
  {
   "cell_type": "code",
   "execution_count": null,
   "metadata": {},
   "outputs": [],
   "source": [
    "data.shape"
   ]
  },
  {
   "cell_type": "code",
   "execution_count": null,
   "metadata": {},
   "outputs": [],
   "source": [
    "print(\"Number of rows present in the dataset are: \", data.shape[0])\n",
    "print(\"Number of columns present in the dataset are: \", data.shape[1])"
   ]
  },
  {
   "cell_type": "markdown",
   "metadata": {},
   "source": [
    "# Rating Distribution"
   ]
  },
  {
   "cell_type": "code",
   "execution_count": null,
   "metadata": {},
   "outputs": [],
   "source": [
    "data['rate'].value_counts()"
   ]
  },
  {
   "cell_type": "markdown",
   "metadata": {},
   "source": [
    "as we can see a category named 'new' which indicates that the restaurant is fairly new, hence we will replace the value 'new' with '2.5' as it can be mode as well as bad..we don't know that yet. Please note we will replace with '2.5 /5' for maintaing uniform format."
   ]
  },
  {
   "cell_type": "code",
   "execution_count": null,
   "metadata": {},
   "outputs": [],
   "source": [
    "print(\"rate column type: \", type(data['rate'][0]))"
   ]
  },
  {
   "cell_type": "code",
   "execution_count": null,
   "metadata": {},
   "outputs": [],
   "source": [
    "data['rate'].replace({\"NEW\" : \"2.5 /5\"}, inplace = True)"
   ]
  },
  {
   "cell_type": "code",
   "execution_count": null,
   "metadata": {},
   "outputs": [],
   "source": [
    "data['rate'].unique()"
   ]
  },
  {
   "cell_type": "code",
   "execution_count": null,
   "metadata": {},
   "outputs": [],
   "source": [
    "data.loc[data['rate'] == '-'].head(5)"
   ]
  },
  {
   "cell_type": "markdown",
   "metadata": {},
   "source": [
    "There are about 65 such rows, we will drop these 65 rows because the value for 'rate' column is '-'"
   ]
  },
  {
   "cell_type": "code",
   "execution_count": null,
   "metadata": {},
   "outputs": [],
   "source": [
    "a = data.loc[data['rate'] == '-'].index\n",
    "data.drop(a, axis = 0, inplace = True)"
   ]
  },
  {
   "cell_type": "code",
   "execution_count": null,
   "metadata": {},
   "outputs": [],
   "source": [
    "data['rate'].unique()"
   ]
  },
  {
   "cell_type": "markdown",
   "metadata": {},
   "source": [
    "Now we can see all the unique values present are scores out of 5. But still there is a problem which we have not solved.\n",
    "\n",
    "The problem is that the given scores are out of 5 and that the data type is string. So first we will need to store only the scores and then convert into float datatype."
   ]
  },
  {
   "cell_type": "code",
   "execution_count": null,
   "metadata": {},
   "outputs": [],
   "source": [
    "data['rate'] = data['rate'].apply(lambda x : x.split('/')[0])"
   ]
  },
  {
   "cell_type": "code",
   "execution_count": null,
   "metadata": {},
   "outputs": [],
   "source": [
    "data['rate'].unique()"
   ]
  },
  {
   "cell_type": "markdown",
   "metadata": {},
   "source": [
    "For some values, there is still a blank after the end of the string like '3.4 '. We will need to remove such spaces."
   ]
  },
  {
   "cell_type": "code",
   "execution_count": null,
   "metadata": {},
   "outputs": [],
   "source": [
    "data['rate'] = data['rate'].apply(lambda x : x.split(' ')[0])"
   ]
  },
  {
   "cell_type": "code",
   "execution_count": null,
   "metadata": {},
   "outputs": [],
   "source": [
    "data['rate'].unique()"
   ]
  },
  {
   "cell_type": "markdown",
   "metadata": {},
   "source": [
    "Perfect, after performing all the above steps we can finally convert the column values from string to float datatype."
   ]
  },
  {
   "cell_type": "code",
   "execution_count": null,
   "metadata": {},
   "outputs": [],
   "source": [
    "data = data.astype({'rate' : float})\n",
    "print(data['rate'].dtype)"
   ]
  },
  {
   "cell_type": "markdown",
   "metadata": {},
   "source": [
    "successfully converted the 'rate' column values to float"
   ]
  },
  {
   "cell_type": "code",
   "execution_count": null,
   "metadata": {},
   "outputs": [],
   "source": [
    "plt.figure(figsize = (10, 10))\n",
    "sns.distplot(data['rate'], color = 'red')"
   ]
  },
  {
   "cell_type": "markdown",
   "metadata": {},
   "source": [
    "As discussed before '2.5' represents the 'NEW' restaurants, and there were about 9800 restaurants that were NEW, that's why the above distribution is multi-modal. If we ignore the 'NEW' Restaurants we can observe that the graph resembles bell-shape i.e it's normally distributed."
   ]
  },
  {
   "cell_type": "code",
   "execution_count": null,
   "metadata": {},
   "outputs": [],
   "source": [
    "plt.figure(figsize = (10, 10))\n",
    "sns.countplot(data['rate'], color = 'crimson')"
   ]
  },
  {
   "cell_type": "markdown",
   "metadata": {},
   "source": [
    "Maximum of the restaurants are pretty NEW. Apart from the recently opened restaurants, most of the Restaurants received 3.9 rating, followed by 3.7 and 3.8. Only a few restaurants have 4.8 or 4.9 rating. Let's see which are these restaurants."
   ]
  },
  {
   "cell_type": "code",
   "execution_count": null,
   "metadata": {},
   "outputs": [],
   "source": [
    "print(\"Restaurants having the highest ratings are: \\n\", data.loc[(data['rate'] == 4.8) | (data['rate'] == 4.9)]['name'].unique())"
   ]
  },
  {
   "cell_type": "markdown",
   "metadata": {},
   "source": [
    "As expected, these are restaurant chains that are present all around the globe. These restaurants are pretty amazing that's why they have the highest rating.\n",
    "\n",
    "Note: The one restaurant having such a large name must have been parsed incorrectly by the creator."
   ]
  },
  {
   "cell_type": "markdown",
   "metadata": {},
   "source": [
    "# Name"
   ]
  },
  {
   "cell_type": "markdown",
   "metadata": {},
   "source": [
    "The same restaurant chain can be present at different location. Let's first check the number of unique restaurant present in the city."
   ]
  },
  {
   "cell_type": "code",
   "execution_count": null,
   "metadata": {},
   "outputs": [],
   "source": [
    "print(\"Total number of restaurants in Bengaluru are: \", len(data['name'].unique()))"
   ]
  },
  {
   "cell_type": "markdown",
   "metadata": {},
   "source": [
    "Let's see which restaurant have the highest number of outlets across the city.\n",
    "\n",
    "Before we use code to find out, let's guess first which kind of restaurants can have the highest number of outlets. Most probably some coffe chain, or ice-cream chain or sweet shop or famous pizza chain like Dominos or Pizza Hut will be having the maximum number of outlets."
   ]
  },
  {
   "cell_type": "code",
   "execution_count": null,
   "metadata": {},
   "outputs": [],
   "source": [
    "plt.figure(figsize = (6, 6))\n",
    "data['name'].value_counts().head(10)\n",
    "index = data['name'].value_counts().head(10).index\n",
    "values = data['name'].value_counts().head(10).values\n",
    "g = sns.barplot(x = index, y = values, data = data)\n",
    "g.set_xticklabels(labels = index, rotation = 90)\n",
    "g"
   ]
  },
  {
   "cell_type": "markdown",
   "metadata": {},
   "source": [
    "Cafe Coffee Day(a coffee chain) had the maximum number of outlets. Sweet shops like Kanti sweet or pizza chains like Pizza Hut also have a lot of outlets across the city.\n",
    "\n",
    "Having a large number of outlets does not gurantee a higher rating. Let's see which restaurant chain have the highest rating grouping by their name."
   ]
  },
  {
   "cell_type": "code",
   "execution_count": null,
   "metadata": {},
   "outputs": [],
   "source": [
    "data.groupby('name')['rate'].mean().sort_values(ascending = False).head(15)"
   ]
  },
  {
   "cell_type": "markdown",
   "metadata": {},
   "source": [
    "We can see that the top 15 restaurants by ratings are completely different from those which have the highest number of outlets."
   ]
  },
  {
   "cell_type": "code",
   "execution_count": null,
   "metadata": {},
   "outputs": [],
   "source": [
    "data.groupby('name')['votes', 'rate'].max().sort_values(ascending = False, by = 'votes').head(15)"
   ]
  },
  {
   "cell_type": "markdown",
   "metadata": {},
   "source": [
    "Above are the 15 restaurants that have got the highest number of user votes. The ratings for these restaurants are also very high as expected. More votes most probably leads to better rating."
   ]
  },
  {
   "cell_type": "code",
   "execution_count": null,
   "metadata": {},
   "outputs": [],
   "source": [
    "names = data.groupby('name')['rate'].mean().sort_values(ascending = False).head(15).index\n",
    "locations = []\n",
    "for i in names:\n",
    "    loc = []\n",
    "    locations.append(data.loc[data['name'] == i]['location'].unique().tolist())\n",
    "name_location = dict(zip(names, locations))\n",
    "name_location"
   ]
  },
  {
   "cell_type": "markdown",
   "metadata": {},
   "source": [
    "Above is a list of the top 15 restaurants by rating and the locations where they are present."
   ]
  },
  {
   "cell_type": "markdown",
   "metadata": {},
   "source": [
    "# Online Order"
   ]
  },
  {
   "cell_type": "code",
   "execution_count": null,
   "metadata": {},
   "outputs": [],
   "source": [
    "data['online_order'].unique()"
   ]
  },
  {
   "cell_type": "markdown",
   "metadata": {},
   "source": [
    "The unique values for 'online_order' columns are 'Yes' or 'No'. These values needs to be converted to numerical 1 or 0."
   ]
  },
  {
   "cell_type": "code",
   "execution_count": null,
   "metadata": {},
   "outputs": [],
   "source": [
    "data['online_order'].replace({'Yes' : 1, 'No' : 0}, inplace = True)\n",
    "# Converting to integer data type."
   ]
  },
  {
   "cell_type": "code",
   "execution_count": null,
   "metadata": {},
   "outputs": [],
   "source": [
    "plt.figure(figsize = (6, 6))\n",
    "sns.countplot(data['online_order'], color = 'brown')"
   ]
  },
  {
   "cell_type": "code",
   "execution_count": null,
   "metadata": {},
   "outputs": [],
   "source": [
    "correlation = data.corr()['rate'].sort_values(ascending = False).to_frame().head(10)\n",
    "\n",
    "cmap = sns.light_palette(\"cyan\", as_cmap = True)\n",
    "\n",
    "s = correlation.style.background_gradient(cmap = cmap)\n",
    "\n",
    "s"
   ]
  },
  {
   "cell_type": "markdown",
   "metadata": {},
   "source": [
    "Correlation of 'rating' with 'online_table' is 0.242."
   ]
  },
  {
   "cell_type": "code",
   "execution_count": null,
   "metadata": {},
   "outputs": [],
   "source": [
    "sns.boxplot(x = 'online_order', y = 'rate', data = data)"
   ]
  },
  {
   "cell_type": "markdown",
   "metadata": {},
   "source": [
    "We can observe from the above plot that those restaurants which offer online order has a higher median rating as compared to those restaurants that don't.\n",
    "\n",
    "As IQR for restaurants offering online order is much less than that of restaurants not offering online order, we can say that restaurants offering online order has better ratings in general.\n",
    "\n",
    "It makes sense also because Zomato offers home delivery for online orders also, so more people will give rating for online_order restaurants on their platform."
   ]
  },
  {
   "cell_type": "markdown",
   "metadata": {},
   "source": [
    "# Book Table"
   ]
  },
  {
   "cell_type": "code",
   "execution_count": null,
   "metadata": {},
   "outputs": [],
   "source": [
    "data['book_table'].unique()"
   ]
  },
  {
   "cell_type": "markdown",
   "metadata": {},
   "source": [
    "Again we will need to change 'Yes' or 'No' to 1 or 0 respectively."
   ]
  },
  {
   "cell_type": "code",
   "execution_count": null,
   "metadata": {},
   "outputs": [],
   "source": [
    "data['book_table'].replace({'Yes' : 1, 'No' : 0}, inplace = True)\n",
    "# Converting to integer data type."
   ]
  },
  {
   "cell_type": "code",
   "execution_count": null,
   "metadata": {},
   "outputs": [],
   "source": [
    "correlation = data.corr()['rate'].sort_values(ascending = False).to_frame().head(10)\n",
    "\n",
    "cmap = sns.light_palette(\"red\", as_cmap = True)\n",
    "\n",
    "s = correlation.style.background_gradient(cmap = cmap)\n",
    "\n",
    "s"
   ]
  },
  {
   "cell_type": "markdown",
   "metadata": {},
   "source": [
    "Book_table has a correlation of 0.39 with the ratings given."
   ]
  },
  {
   "cell_type": "code",
   "execution_count": null,
   "metadata": {},
   "outputs": [],
   "source": [
    "plt.figure(figsize = (7, 7))\n",
    "sns.countplot(data['book_table'], color = 'lightgreen')"
   ]
  },
  {
   "cell_type": "markdown",
   "metadata": {},
   "source": [
    "only around 7500 restaurants books a table in advance. Rest of the 43000 restaurants don't book table in advance. Let's see if this affects the rating of the restaurant."
   ]
  },
  {
   "cell_type": "code",
   "execution_count": null,
   "metadata": {},
   "outputs": [],
   "source": [
    "sns.boxplot(x = 'book_table', y = 'rate', data = data)"
   ]
  },
  {
   "cell_type": "markdown",
   "metadata": {},
   "source": [
    "Eventhough there are some outliers for the book_table class, we can see that the lower whisker of '1''s boxplots which represents the minimum rating of the restaurants that book table in advance, is greater than the 50th percentile value or the median of the ratings of the restaurants that don't book table in advance.\n",
    "\n",
    "Some restaurants that don't book table in advance also have ratings close to 5. The IQR for '1' boxplot is quite small which represents small variation of the ratings around median. Therefore, if the restaurants offer to book table in advance, more ratings are given."
   ]
  },
  {
   "cell_type": "markdown",
   "metadata": {},
   "source": [
    "# Approx Cost"
   ]
  },
  {
   "cell_type": "markdown",
   "metadata": {},
   "source": [
    "Votes contains total number of rating for the restaurant."
   ]
  },
  {
   "cell_type": "code",
   "execution_count": null,
   "metadata": {},
   "outputs": [],
   "source": [
    "print(\"Data type for Approximate cost is: \", data['approx_cost(for two people)'].dtype)"
   ]
  },
  {
   "cell_type": "markdown",
   "metadata": {},
   "source": [
    "We have to convert it into integer.\n",
    "\n",
    "There are values like '1,200' we need to first convert such strings to '1200' then to 1200."
   ]
  },
  {
   "cell_type": "code",
   "execution_count": null,
   "metadata": {},
   "outputs": [],
   "source": [
    "data['approx_cost(for two people)'] = data['approx_cost(for two people)'].apply(lambda x : x.replace(',', ''))"
   ]
  },
  {
   "cell_type": "code",
   "execution_count": null,
   "metadata": {},
   "outputs": [],
   "source": [
    "data = data.astype({'approx_cost(for two people)' : int})\n",
    "print(data['approx_cost(for two people)'].dtype)"
   ]
  },
  {
   "cell_type": "code",
   "execution_count": null,
   "metadata": {},
   "outputs": [],
   "source": [
    "correlation = data.corr()['rate'].sort_values(ascending = False).to_frame().head(10)\n",
    "\n",
    "cmap = sns.light_palette(\"pink\", as_cmap = True)\n",
    "\n",
    "s = correlation.style.background_gradient(cmap = cmap)\n",
    "\n",
    "s"
   ]
  },
  {
   "cell_type": "code",
   "execution_count": null,
   "metadata": {},
   "outputs": [],
   "source": [
    "data.groupby('name')['rate', 'approx_cost(for two people)'].mean().sort_values(by = 'rate', ascending = False).head(15)"
   ]
  },
  {
   "cell_type": "markdown",
   "metadata": {},
   "source": [
    "We can observe some of the top-rated restaurants are quite expensive. Punjab Grill costs 1000 per person, whereas Taaza Thindi costs 50 per person.\n",
    "\n",
    "Let's see the distribution of this feature."
   ]
  },
  {
   "cell_type": "code",
   "execution_count": null,
   "metadata": {},
   "outputs": [],
   "source": [
    "plt.figure(figsize = (8, 8))\n",
    "sns.distplot(data['approx_cost(for two people)'])"
   ]
  },
  {
   "cell_type": "markdown",
   "metadata": {},
   "source": [
    "Let's see which is the most expensive restaurant."
   ]
  },
  {
   "cell_type": "code",
   "execution_count": null,
   "metadata": {},
   "outputs": [],
   "source": [
    "data['approx_cost(for two people)'].sort_values(ascending = False)"
   ]
  },
  {
   "cell_type": "code",
   "execution_count": null,
   "metadata": {},
   "outputs": [],
   "source": [
    "print(\"The name of the most expensive restaurant is {} and it is located at {}\".format(\n",
    "    data.loc[data['approx_cost(for two people)'] == data['approx_cost(for two people)'].max()]['name'].unique()[0],\n",
    "    data.loc[data['approx_cost(for two people)'] == data['approx_cost(for two people)'].max()]['location'].unique()[0]\n",
    "))"
   ]
  },
  {
   "cell_type": "code",
   "execution_count": null,
   "metadata": {},
   "outputs": [],
   "source": [
    "data['approx_cost(for two people)'].sort_values(ascending = False).head(15).unique()"
   ]
  },
  {
   "cell_type": "markdown",
   "metadata": {},
   "source": [
    "Top 15 restaurants cost ran range from 4000 to 6000 Rupees for two people"
   ]
  },
  {
   "cell_type": "markdown",
   "metadata": {},
   "source": [
    "# Cuisines"
   ]
  },
  {
   "cell_type": "code",
   "execution_count": 89,
   "metadata": {},
   "outputs": [
    {
     "data": {
      "text/plain": [
       "array(['North Indian, Mughlai, Chinese', 'Chinese, North Indian, Thai',\n",
       "       'Cafe, Mexican, Italian', ...,\n",
       "       'North Indian, Street Food, Biryani', 'Chinese, Mughlai',\n",
       "       'North Indian, Chinese, Arabian, Momos'], dtype=object)"
      ]
     },
     "execution_count": 89,
     "metadata": {},
     "output_type": "execute_result"
    }
   ],
   "source": [
    "data['cuisines'].unique()"
   ]
  },
  {
   "cell_type": "markdown",
   "metadata": {},
   "source": [
    "In order to analyse the cuisine column, let's make a new column called 'Number_of_cuisines_offered'."
   ]
  },
  {
   "cell_type": "code",
   "execution_count": 91,
   "metadata": {},
   "outputs": [
    {
     "data": {
      "text/plain": [
       "2"
      ]
     },
     "execution_count": 91,
     "metadata": {},
     "output_type": "execute_result"
    }
   ],
   "source": [
    "len(data['cuisines'][4].split(','))"
   ]
  },
  {
   "cell_type": "code",
   "execution_count": 92,
   "metadata": {},
   "outputs": [],
   "source": [
    "data['Number_of_cuisines_offered'] = data['cuisines'].apply(lambda x : len(x.split(',')))"
   ]
  },
  {
   "cell_type": "code",
   "execution_count": 94,
   "metadata": {},
   "outputs": [
    {
     "data": {
      "text/html": [
       "<div>\n",
       "<style scoped>\n",
       "    .dataframe tbody tr th:only-of-type {\n",
       "        vertical-align: middle;\n",
       "    }\n",
       "\n",
       "    .dataframe tbody tr th {\n",
       "        vertical-align: top;\n",
       "    }\n",
       "\n",
       "    .dataframe thead th {\n",
       "        text-align: right;\n",
       "    }\n",
       "</style>\n",
       "<table border=\"1\" class=\"dataframe\">\n",
       "  <thead>\n",
       "    <tr style=\"text-align: right;\">\n",
       "      <th></th>\n",
       "      <th>online_order</th>\n",
       "      <th>book_table</th>\n",
       "      <th>rate</th>\n",
       "      <th>votes</th>\n",
       "      <th>approx_cost(for two people)</th>\n",
       "      <th>Number_of_cuisines_offered</th>\n",
       "    </tr>\n",
       "  </thead>\n",
       "  <tbody>\n",
       "    <tr>\n",
       "      <td>online_order</td>\n",
       "      <td>1.000000</td>\n",
       "      <td>-0.002504</td>\n",
       "      <td>0.242004</td>\n",
       "      <td>0.034114</td>\n",
       "      <td>-0.084069</td>\n",
       "      <td>0.106474</td>\n",
       "    </tr>\n",
       "    <tr>\n",
       "      <td>book_table</td>\n",
       "      <td>-0.002504</td>\n",
       "      <td>1.000000</td>\n",
       "      <td>0.391537</td>\n",
       "      <td>0.405981</td>\n",
       "      <td>0.618064</td>\n",
       "      <td>0.263471</td>\n",
       "    </tr>\n",
       "    <tr>\n",
       "      <td>rate</td>\n",
       "      <td>0.242004</td>\n",
       "      <td>0.391537</td>\n",
       "      <td>1.000000</td>\n",
       "      <td>0.406135</td>\n",
       "      <td>0.404836</td>\n",
       "      <td>0.247356</td>\n",
       "    </tr>\n",
       "    <tr>\n",
       "      <td>votes</td>\n",
       "      <td>0.034114</td>\n",
       "      <td>0.405981</td>\n",
       "      <td>0.406135</td>\n",
       "      <td>1.000000</td>\n",
       "      <td>0.381563</td>\n",
       "      <td>0.231998</td>\n",
       "    </tr>\n",
       "    <tr>\n",
       "      <td>approx_cost(for two people)</td>\n",
       "      <td>-0.084069</td>\n",
       "      <td>0.618064</td>\n",
       "      <td>0.404836</td>\n",
       "      <td>0.381563</td>\n",
       "      <td>1.000000</td>\n",
       "      <td>0.268651</td>\n",
       "    </tr>\n",
       "    <tr>\n",
       "      <td>Number_of_cuisines_offered</td>\n",
       "      <td>0.106474</td>\n",
       "      <td>0.263471</td>\n",
       "      <td>0.247356</td>\n",
       "      <td>0.231998</td>\n",
       "      <td>0.268651</td>\n",
       "      <td>1.000000</td>\n",
       "    </tr>\n",
       "  </tbody>\n",
       "</table>\n",
       "</div>"
      ],
      "text/plain": [
       "                             online_order  book_table      rate     votes  \\\n",
       "online_order                     1.000000   -0.002504  0.242004  0.034114   \n",
       "book_table                      -0.002504    1.000000  0.391537  0.405981   \n",
       "rate                             0.242004    0.391537  1.000000  0.406135   \n",
       "votes                            0.034114    0.405981  0.406135  1.000000   \n",
       "approx_cost(for two people)     -0.084069    0.618064  0.404836  0.381563   \n",
       "Number_of_cuisines_offered       0.106474    0.263471  0.247356  0.231998   \n",
       "\n",
       "                             approx_cost(for two people)  \\\n",
       "online_order                                   -0.084069   \n",
       "book_table                                      0.618064   \n",
       "rate                                            0.404836   \n",
       "votes                                           0.381563   \n",
       "approx_cost(for two people)                     1.000000   \n",
       "Number_of_cuisines_offered                      0.268651   \n",
       "\n",
       "                             Number_of_cuisines_offered  \n",
       "online_order                                   0.106474  \n",
       "book_table                                     0.263471  \n",
       "rate                                           0.247356  \n",
       "votes                                          0.231998  \n",
       "approx_cost(for two people)                    0.268651  \n",
       "Number_of_cuisines_offered                     1.000000  "
      ]
     },
     "execution_count": 94,
     "metadata": {},
     "output_type": "execute_result"
    }
   ],
   "source": [
    "data.corr()"
   ]
  },
  {
   "cell_type": "code",
   "execution_count": 95,
   "metadata": {},
   "outputs": [
    {
     "data": {
      "text/html": [
       "<style  type=\"text/css\" >\n",
       "    #T_5c979d38_6f58_11eb_a6de_1866da9969e4row0_col0 {\n",
       "            background-color:  #ffa500;\n",
       "            color:  #000000;\n",
       "        }    #T_5c979d38_6f58_11eb_a6de_1866da9969e4row1_col0 {\n",
       "            background-color:  #ffe5b4;\n",
       "            color:  #000000;\n",
       "        }    #T_5c979d38_6f58_11eb_a6de_1866da9969e4row2_col0 {\n",
       "            background-color:  #ffe5b5;\n",
       "            color:  #000000;\n",
       "        }    #T_5c979d38_6f58_11eb_a6de_1866da9969e4row3_col0 {\n",
       "            background-color:  #ffe6b8;\n",
       "            color:  #000000;\n",
       "        }    #T_5c979d38_6f58_11eb_a6de_1866da9969e4row4_col0 {\n",
       "            background-color:  #fff6e5;\n",
       "            color:  #000000;\n",
       "        }    #T_5c979d38_6f58_11eb_a6de_1866da9969e4row5_col0 {\n",
       "            background-color:  #fff6e5;\n",
       "            color:  #000000;\n",
       "        }</style><table id=\"T_5c979d38_6f58_11eb_a6de_1866da9969e4\" ><thead>    <tr>        <th class=\"blank level0\" ></th>        <th class=\"col_heading level0 col0\" >rate</th>    </tr></thead><tbody>\n",
       "                <tr>\n",
       "                        <th id=\"T_5c979d38_6f58_11eb_a6de_1866da9969e4level0_row0\" class=\"row_heading level0 row0\" >rate</th>\n",
       "                        <td id=\"T_5c979d38_6f58_11eb_a6de_1866da9969e4row0_col0\" class=\"data row0 col0\" >1</td>\n",
       "            </tr>\n",
       "            <tr>\n",
       "                        <th id=\"T_5c979d38_6f58_11eb_a6de_1866da9969e4level0_row1\" class=\"row_heading level0 row1\" >votes</th>\n",
       "                        <td id=\"T_5c979d38_6f58_11eb_a6de_1866da9969e4row1_col0\" class=\"data row1 col0\" >0.406135</td>\n",
       "            </tr>\n",
       "            <tr>\n",
       "                        <th id=\"T_5c979d38_6f58_11eb_a6de_1866da9969e4level0_row2\" class=\"row_heading level0 row2\" >approx_cost(for two people)</th>\n",
       "                        <td id=\"T_5c979d38_6f58_11eb_a6de_1866da9969e4row2_col0\" class=\"data row2 col0\" >0.404836</td>\n",
       "            </tr>\n",
       "            <tr>\n",
       "                        <th id=\"T_5c979d38_6f58_11eb_a6de_1866da9969e4level0_row3\" class=\"row_heading level0 row3\" >book_table</th>\n",
       "                        <td id=\"T_5c979d38_6f58_11eb_a6de_1866da9969e4row3_col0\" class=\"data row3 col0\" >0.391537</td>\n",
       "            </tr>\n",
       "            <tr>\n",
       "                        <th id=\"T_5c979d38_6f58_11eb_a6de_1866da9969e4level0_row4\" class=\"row_heading level0 row4\" >Number_of_cuisines_offered</th>\n",
       "                        <td id=\"T_5c979d38_6f58_11eb_a6de_1866da9969e4row4_col0\" class=\"data row4 col0\" >0.247356</td>\n",
       "            </tr>\n",
       "            <tr>\n",
       "                        <th id=\"T_5c979d38_6f58_11eb_a6de_1866da9969e4level0_row5\" class=\"row_heading level0 row5\" >online_order</th>\n",
       "                        <td id=\"T_5c979d38_6f58_11eb_a6de_1866da9969e4row5_col0\" class=\"data row5 col0\" >0.242004</td>\n",
       "            </tr>\n",
       "    </tbody></table>"
      ],
      "text/plain": [
       "<pandas.io.formats.style.Styler at 0x80340db08>"
      ]
     },
     "execution_count": 95,
     "metadata": {},
     "output_type": "execute_result"
    }
   ],
   "source": [
    "correlation = data.corr()['rate'].sort_values(ascending = False).to_frame().head(10)\n",
    "\n",
    "cmap = sns.light_palette(\"orange\", as_cmap = True)\n",
    "\n",
    "s = correlation.style.background_gradient(cmap = cmap)\n",
    "\n",
    "s"
   ]
  },
  {
   "cell_type": "markdown",
   "metadata": {},
   "source": [
    "Number of cuisines offered have very little correlation with the rating."
   ]
  },
  {
   "cell_type": "code",
   "execution_count": 96,
   "metadata": {},
   "outputs": [
    {
     "data": {
      "image/png": "[encoded data removed]",
      "text/plain": [
       "<Figure size 576x576 with 1 Axes>"
      ]
     },
     "metadata": {},
     "output_type": "display_data"
    }
   ],
   "source": [
    "# Pie chart\n",
    "labels = data['listed_in(type)'].value_counts().index\n",
    "sizes = data['listed_in(type)'].value_counts().values\n",
    "# only \"explode\" the 2nd slice (i.e. 'Hogs')\n",
    "explode = (0.1, 0.1, 0.1, 0.1, 0.1, 0.1, 0.1)\n",
    "fig1, ax1 = plt.subplots(figsize = (8, 8))\n",
    "\n",
    "ax1.pie(sizes, labels = labels,\n",
    "        shadow = True, startangle = 90, explode = explode, rotatelabels = True)\n",
    "centre_circle = plt.Circle((0, 0), 0.70,fc = 'white')\n",
    "fig = plt.gcf()\n",
    "fig.gca().add_artist(centre_circle)\n",
    "\n",
    "# Equal aspect ratio ensures that pie is drawn as a circle\n",
    "ax1.axis('equal')  \n",
    "plt.tight_layout()\n",
    "plt.show()"
   ]
  },
  {
   "cell_type": "markdown",
   "metadata": {},
   "source": [
    "Majority of the restaurants Delivers the food to the homes, very less proportion are pubs and bars or Drinks & nightlife."
   ]
  },
  {
   "cell_type": "code",
   "execution_count": 97,
   "metadata": {},
   "outputs": [
    {
     "data": {
      "image/png": "[encoded data removed]",
      "text/plain": [
       "<Figure size 576x576 with 1 Axes>"
      ]
     },
     "metadata": {
      "needs_background": "light"
     },
     "output_type": "display_data"
    }
   ],
   "source": [
    "plt.figure(figsize = (8, 8))\n",
    "g = sns.boxplot(x = 'listed_in(type)', y = 'rate', data = data)\n",
    "plt.xticks(rotation = 90)\n",
    "plt.show()"
   ]
  },
  {
   "cell_type": "markdown",
   "metadata": {},
   "source": [
    "Majority of the Restaurants of type 'Drinks & nightlife' and 'Pubs and bars' have a high median rating. The median value of these kind of restaurants is greater than the 75th Percentile value of rest of the restaurant types except that of 'Buffet' type. The IQR is highest for 'Desserts' category which indicates large amount of variation about median."
   ]
  },
  {
   "cell_type": "markdown",
   "metadata": {},
   "source": [
    "Hope you liked the notebook, any suggestions would be highly appreciated."
   ]
  }
 ],
 "metadata": {
  "kernelspec": {
   "display_name": "Python 3",
   "language": "python",
   "name": "python3"
  },
  "language_info": {
   "codemirror_mode": {
    "name": "ipython",
    "version": 3
   },
   "file_extension": ".py",
   "mimetype": "text/x-python",
   "name": "python",
   "nbconvert_exporter": "python",
   "pygments_lexer": "ipython3",
   "version": "3.7.4"
  }
 },
 "nbformat": 4,
 "nbformat_minor": 2
}
